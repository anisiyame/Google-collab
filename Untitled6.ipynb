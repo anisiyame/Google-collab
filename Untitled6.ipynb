{
  "nbformat": 4,
  "nbformat_minor": 0,
  "metadata": {
    "colab": {
      "provenance": []
    },
    "kernelspec": {
      "name": "python3",
      "display_name": "Python 3"
    },
    "language_info": {
      "name": "python"
    }
  },
  "cells": [
    {
      "cell_type": "code",
      "execution_count": null,
      "metadata": {
        "colab": {
          "base_uri": "https://localhost:8080/"
        },
        "id": "yFrrENEz7p9K",
        "outputId": "55d5d386-1c88-467b-80d1-f8cacedcf129"
      },
      "outputs": [
        {
          "output_type": "stream",
          "name": "stdout",
          "text": [
            "0b1101 001\n"
          ]
        }
      ],
      "source": [
        "#13,125\n",
        "a = bin(13)\n",
        "'''0,125 * 2 = 0,25 0\n",
        "0,25 * 2 = 0,5 0\n",
        "0,5 * 2 = 1 1'''\n",
        "print(a,'001')"
      ]
    },
    {
      "cell_type": "code",
      "source": [
        "23,25\n",
        "a = bin(23)\n",
        "'''0,25 * 2 = 0,5 0\n",
        "0,5 * 2 = 1 1'''\n",
        "print(a,'01')"
      ],
      "metadata": {
        "colab": {
          "base_uri": "https://localhost:8080/"
        },
        "id": "_2rPu19YABeY",
        "outputId": "726dff69-5f3a-42af-91ea-7896fce4f924"
      },
      "execution_count": null,
      "outputs": [
        {
          "output_type": "stream",
          "name": "stdout",
          "text": [
            "0b10111 01\n"
          ]
        }
      ]
    },
    {
      "cell_type": "code",
      "source": [
        "37,375\n",
        "a = bin(37)\n",
        "'''0,375 * 2 = 0,75 0\n",
        "0,75 * 2 = 1,5 1\n",
        "1,5 * 2 = 1'''\n",
        "print(a, '011')"
      ],
      "metadata": {
        "colab": {
          "base_uri": "https://localhost:8080/"
        },
        "id": "HNFDBMRkAX4J",
        "outputId": "9173983f-00c5-41b8-80c1-efa7df9a41a6"
      },
      "execution_count": null,
      "outputs": [
        {
          "output_type": "stream",
          "name": "stdout",
          "text": [
            "0b100101 011\n"
          ]
        }
      ]
    },
    {
      "cell_type": "code",
      "source": [
        "48,625\n",
        "a = bin(48)\n",
        "'''0,625 * 2 = 1,25 1\n",
        "1,25 * 2 = 0,5 0\n",
        "0,5 * 2 = 1 1'''\n",
        "print(a, '101')"
      ],
      "metadata": {
        "colab": {
          "base_uri": "https://localhost:8080/"
        },
        "id": "Ml42lvCgBCVN",
        "outputId": "cace6a82-5e13-4aa7-dd5f-18eae6b321a1"
      },
      "execution_count": null,
      "outputs": [
        {
          "output_type": "stream",
          "name": "stdout",
          "text": [
            "0b110000 101\n"
          ]
        }
      ]
    },
    {
      "cell_type": "code",
      "source": [
        "78,875\n",
        "a = bin(78)\n",
        "#0,875 * 2 = 1,75 * 2 = 1,5 * 2 = 1\n",
        "print(a,'111')"
      ],
      "metadata": {
        "colab": {
          "base_uri": "https://localhost:8080/"
        },
        "id": "hQpV9jArBaOd",
        "outputId": "bc7c483f-d61f-452c-f095-a2dc87c69d24"
      },
      "execution_count": null,
      "outputs": [
        {
          "output_type": "stream",
          "name": "stdout",
          "text": [
            "0b1001110 111\n"
          ]
        }
      ]
    },
    {
      "cell_type": "code",
      "source": [
        "11,8\n",
        "a = bin(11)\n",
        "#0,8 * 2 = 1,6 * 2 = 1,2 * 2 = 0,4 * 2 = 0,8\n",
        "print (a, '(110)')"
      ],
      "metadata": {
        "colab": {
          "base_uri": "https://localhost:8080/"
        },
        "id": "bQBNTxmmB0NN",
        "outputId": "1e7c2680-315e-402a-ed49-f75d06443d57"
      },
      "execution_count": null,
      "outputs": [
        {
          "output_type": "stream",
          "name": "stdout",
          "text": [
            "0b1011 (110)\n"
          ]
        }
      ]
    },
    {
      "cell_type": "code",
      "source": [
        "15,3\n",
        "a = bin(15)\n",
        "#0,3 * 2 = 0,6 * 2 = 1,2 * 2 = 0,2 * 2 = 0,4 * 2 = 0,8 * 2 = 1,6 * 2 = 0,6\n",
        "print(a, '(1001)')"
      ],
      "metadata": {
        "colab": {
          "base_uri": "https://localhost:8080/"
        },
        "id": "iYJFLy9lCizi",
        "outputId": "5af068a2-05f7-486e-ee37-e4c9e82348ad"
      },
      "execution_count": null,
      "outputs": [
        {
          "output_type": "stream",
          "name": "stdout",
          "text": [
            "0b1111 (1001)\n"
          ]
        }
      ]
    },
    {
      "cell_type": "code",
      "source": [
        "22,7\n",
        "a = bin(22)\n",
        "'''0,7 * 2 = 1,4 1\n",
        "0,4 * 2 = 0,8 0\n",
        "0,8 * 2 = 1,6 1\n",
        "0,6 * 2 = 1,2 1\n",
        "0,2 * 2 = 0,4 0\n",
        "0,4 * 2 = 0,8 0'''\n",
        "print(a, '0110')"
      ],
      "metadata": {
        "id": "RTnhtisdD81n"
      },
      "execution_count": null,
      "outputs": []
    }
  ]
}